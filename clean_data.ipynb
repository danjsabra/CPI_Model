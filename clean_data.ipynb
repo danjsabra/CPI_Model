{
 "cells": [
  {
   "cell_type": "code",
   "execution_count": 58,
   "metadata": {},
   "outputs": [
    {
     "name": "stdout",
     "output_type": "stream",
     "text": [
      "PPIFGS\n",
      "PPIFCG\n",
      "PPIITM\n",
      "PPICRM\n",
      "OILPRICEx\n",
      "OILPRICEx_sb1\n",
      "CPIAUCSL\n",
      "CPITRNSL\n",
      "CPITRNSL_sb2\n",
      "CUSR0000SAC\n",
      "CUSR0000SAS\n",
      "CPIULFSL\n",
      "CPIULFSL_sb1\n",
      "CUSR0000SA0L2\n",
      "CUSR0000SA0L5\n",
      "PCEPI\n",
      "DNDGRG3M086SBEA\n"
     ]
    }
   ],
   "source": [
    "import pandas as pd\n",
    "import matplotlib.pyplot as plt\n",
    "import numpy as np\n",
    "\n",
    "def transform1(series):\n",
    "    return series\n",
    "def transform2(series):\n",
    "    a = series.diff().fillna(0)\n",
    "    a[1] = 0\n",
    "    return a\n",
    "def transform3(series):\n",
    "    a = 2* series.diff().diff().fillna(0)\n",
    "    return a\n",
    "def transform4(series):\n",
    "    return pd.Series(np.log(series))\n",
    "def transform5(series):\n",
    "    a = pd.Series(np.log(series)).diff().fillna(0)\n",
    "    return a\n",
    "def transform6(series):\n",
    "    a = pd.Series(np.log(series)).diff().diff().fillna(0)\n",
    "    return a\n",
    "def transform7(series):\n",
    "    a = series.div(series.add(-1).shift(-1)).fillna(0)\n",
    "    return a\n",
    "\n",
    "functions = [transform1, transform2, transform3, transform4, transform5, transform6, transform7]\n",
    "\n",
    "def get_transformed_data(path):\n",
    "    df = pd.read_csv(path)\n",
    "    df2  = {}\n",
    "    for name in df.columns:\n",
    "        if(df[name].isna().sum() > 0 or name == 'sasdate'):\n",
    "            continue\n",
    "        df2[name] = functions[int(df[name][0])-1](df[name][1:])\n",
    "        for i in range(1,4):\n",
    "            df2[name+\"_sb\"+str(i)] = df2[name].shift(-1*i).fillna(0)\n",
    "\n",
    "    df2 = pd.DataFrame(data=df2)\n",
    "    target = df2['CPIULFSL']\n",
    "    for name in df2.columns:\n",
    "        if(np.abs(np.corrcoef(target, df2[name]))[0,1] > 0.2):\n",
    "            print(name)\n",
    "    \n",
    "    "
   ]
  },
  {
   "cell_type": "code",
   "execution_count": 73,
   "metadata": {},
   "outputs": [
    {
     "data": {
      "text/plain": [
       "0.0"
      ]
     },
     "execution_count": 73,
     "metadata": {},
     "output_type": "execute_result"
    }
   ],
   "source": [
    "from sklearn.linear_model import LinearRegression, Lasso, Ridge\n",
    "y_train = df2['CPIULFSL'].shift(1).fillna(0)\n",
    "x_train = df2.drop(columns=['CPIULFSL'])\n",
    "\n",
    "l = Lasso()\n",
    "l.fit(x_train, y_train)\n",
    "l.score(x_train, y_train)"
   ]
  },
  {
   "cell_type": "code",
   "execution_count": null,
   "metadata": {},
   "outputs": [],
   "source": []
  }
 ],
 "metadata": {
  "interpreter": {
   "hash": "31f2aee4e71d21fbe5cf8b01ff0e069b9275f58929596ceb00d14d90e3e16cd6"
  },
  "kernelspec": {
   "display_name": "Python 3.8.10 64-bit",
   "language": "python",
   "name": "python3"
  },
  "language_info": {
   "codemirror_mode": {
    "name": "ipython",
    "version": 3
   },
   "file_extension": ".py",
   "mimetype": "text/x-python",
   "name": "python",
   "nbconvert_exporter": "python",
   "pygments_lexer": "ipython3",
   "version": "3.8.10"
  },
  "orig_nbformat": 4
 },
 "nbformat": 4,
 "nbformat_minor": 2
}
